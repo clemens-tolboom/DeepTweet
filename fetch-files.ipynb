{
 "cells": [
  {
   "cell_type": "code",
   "execution_count": 1,
   "metadata": {},
   "outputs": [],
   "source": [
    "# Markdown is not rendered in PyCharm."
   ]
  },
  {
   "cell_type": "markdown",
   "metadata": {},
   "source": [
    "# DeepBird\n",
    "\n",
    "## Xeno Canto\n",
    "\n",
    "This is a [website](https://www.xeno-canto.org) containing bird song recordings and classification. They have shared part of their [collection](https://www.gbif.org/dataset/b1047888-ae52-4179-9dd5-5448ea342a24) to [Global Biodiversity Information Facility](https://gbif.org)\n",
    "\n",
    "### Terms of use\n",
    "\n",
    "It is ok to download some files but we still need to contact for downloading the complete set. See the [terms](https://www.xeno-canto.org/about/terms)\n",
    "\n",
    "## About this project\n",
    "\n",
    "We want to learn the individual bird sound and try to learn their songs.\n",
    "\n",
    "For this to happen we need to\n",
    "\n",
    "- download the zip containing a csv from GBIF.\n",
    "- download samples with their annotations.\n",
    "- process the samples into a spectrogram and extract regions of interest.\n",
    "- learn the extracted regions."
   ]
  },
  {
   "cell_type": "markdown",
   "metadata": {},
   "source": [
    "## Fetching\n",
    "\n",
    "It seems the first item is `https://www.xeno-canto.org/1` and currently `https://www.xeno-canto.org/460846` the last.\n",
    "\n",
    "As we have not contacted them yet we collect 5 samples each time we run this page."
   ]
  },
  {
   "cell_type": "code",
   "execution_count": 2,
   "metadata": {},
   "outputs": [
    {
     "name": "stdout",
     "output_type": "stream",
     "text": [
      "Project   : /home/clemens/Documents/projects/PyDeepSqueak/\n",
      "Data      : /media/clemens/Maxtor/xeno-canto/\n",
      "GBIF      : /media/clemens/Maxtor/xeno-canto/gbif/\n",
      "sample    : /media/clemens/Maxtor/xeno-canto/xc/\n",
      "fragments : /media/clemens/Maxtor/xeno-canto/fragments/\n"
     ]
    }
   ],
   "source": [
    "import project;\n",
    "\n",
    "# In case you want to have proces data somewhere else change it\n",
    "data_dir = project.get_project_dir() + 'data/'\n",
    "data_dir = '/media/clemens/Maxtor/xeno-canto/'\n",
    "project.set_data_dir(data_dir)\n",
    "\n",
    "num_files = 5\n",
    "\n",
    "project.print_stats()"
   ]
  },
  {
   "cell_type": "code",
   "execution_count": 3,
   "metadata": {},
   "outputs": [],
   "source": [
    "import gbif\n",
    "\n",
    "gbif.set_gbif_dir(project.get_gbif_dir())\n",
    "\n",
    "gbif_id = '0025627-181108115102211'"
   ]
  },
  {
   "cell_type": "code",
   "execution_count": 4,
   "metadata": {},
   "outputs": [
    {
     "name": "stdout",
     "output_type": "stream",
     "text": [
      "Already downloaded zip 0025627-181108115102211\n"
     ]
    }
   ],
   "source": [
    "gbif_csv = gbif.get_data()"
   ]
  },
  {
   "cell_type": "code",
   "execution_count": 5,
   "metadata": {},
   "outputs": [
    {
     "data": {
      "text/html": [
       "<div>\n",
       "<style scoped>\n",
       "    .dataframe tbody tr th:only-of-type {\n",
       "        vertical-align: middle;\n",
       "    }\n",
       "\n",
       "    .dataframe tbody tr th {\n",
       "        vertical-align: top;\n",
       "    }\n",
       "\n",
       "    .dataframe thead th {\n",
       "        text-align: right;\n",
       "    }\n",
       "</style>\n",
       "<table border=\"1\" class=\"dataframe\">\n",
       "  <thead>\n",
       "    <tr style=\"text-align: right;\">\n",
       "      <th></th>\n",
       "      <th>gbifID</th>\n",
       "      <th>datasetKey</th>\n",
       "      <th>occurrenceID</th>\n",
       "      <th>kingdom</th>\n",
       "      <th>phylum</th>\n",
       "      <th>class</th>\n",
       "      <th>order</th>\n",
       "      <th>family</th>\n",
       "      <th>genus</th>\n",
       "      <th>species</th>\n",
       "      <th>...</th>\n",
       "      <th>dateIdentified</th>\n",
       "      <th>license</th>\n",
       "      <th>rightsHolder</th>\n",
       "      <th>recordedBy</th>\n",
       "      <th>typeStatus</th>\n",
       "      <th>establishmentMeans</th>\n",
       "      <th>lastInterpreted</th>\n",
       "      <th>mediaType</th>\n",
       "      <th>issue</th>\n",
       "      <th>XC_ID</th>\n",
       "    </tr>\n",
       "  </thead>\n",
       "  <tbody>\n",
       "    <tr>\n",
       "      <th>0</th>\n",
       "      <td>1934871083</td>\n",
       "      <td>b1047888-ae52-4179-9dd5-5448ea342a24</td>\n",
       "      <td>http://data.biodiversitydata.nl/xeno-canto/obs...</td>\n",
       "      <td>Animalia</td>\n",
       "      <td>Chordata</td>\n",
       "      <td>Aves</td>\n",
       "      <td>Passeriformes</td>\n",
       "      <td>Parulidae</td>\n",
       "      <td>Seiurus</td>\n",
       "      <td>Seiurus aurocapilla</td>\n",
       "      <td>...</td>\n",
       "      <td>NaN</td>\n",
       "      <td>CC_BY_NC_4_0</td>\n",
       "      <td>Mike Nelson</td>\n",
       "      <td>Mike Nelson</td>\n",
       "      <td>NaN</td>\n",
       "      <td>NaN</td>\n",
       "      <td>2019-01-03T10:18:26.934Z</td>\n",
       "      <td>SOUND;STILLIMAGE</td>\n",
       "      <td>NaN</td>\n",
       "      <td>100119</td>\n",
       "    </tr>\n",
       "    <tr>\n",
       "      <th>1</th>\n",
       "      <td>1934871084</td>\n",
       "      <td>b1047888-ae52-4179-9dd5-5448ea342a24</td>\n",
       "      <td>http://data.biodiversitydata.nl/xeno-canto/obs...</td>\n",
       "      <td>Animalia</td>\n",
       "      <td>Chordata</td>\n",
       "      <td>Aves</td>\n",
       "      <td>Passeriformes</td>\n",
       "      <td>Turdidae</td>\n",
       "      <td>Catharus</td>\n",
       "      <td>Catharus guttatus</td>\n",
       "      <td>...</td>\n",
       "      <td>NaN</td>\n",
       "      <td>CC_BY_NC_4_0</td>\n",
       "      <td>Mike Nelson</td>\n",
       "      <td>Mike Nelson</td>\n",
       "      <td>NaN</td>\n",
       "      <td>NaN</td>\n",
       "      <td>2019-01-03T10:18:26.933Z</td>\n",
       "      <td>SOUND;STILLIMAGE</td>\n",
       "      <td>NaN</td>\n",
       "      <td>100113</td>\n",
       "    </tr>\n",
       "    <tr>\n",
       "      <th>2</th>\n",
       "      <td>1934871085</td>\n",
       "      <td>b1047888-ae52-4179-9dd5-5448ea342a24</td>\n",
       "      <td>http://data.biodiversitydata.nl/xeno-canto/obs...</td>\n",
       "      <td>Animalia</td>\n",
       "      <td>Chordata</td>\n",
       "      <td>Aves</td>\n",
       "      <td>Passeriformes</td>\n",
       "      <td>Parulidae</td>\n",
       "      <td>Setophaga</td>\n",
       "      <td>Setophaga ruticilla</td>\n",
       "      <td>...</td>\n",
       "      <td>NaN</td>\n",
       "      <td>CC_BY_NC_4_0</td>\n",
       "      <td>Mike Nelson</td>\n",
       "      <td>Mike Nelson</td>\n",
       "      <td>NaN</td>\n",
       "      <td>NaN</td>\n",
       "      <td>2019-01-03T10:18:26.936Z</td>\n",
       "      <td>SOUND;STILLIMAGE</td>\n",
       "      <td>NaN</td>\n",
       "      <td>100082</td>\n",
       "    </tr>\n",
       "    <tr>\n",
       "      <th>3</th>\n",
       "      <td>1934871086</td>\n",
       "      <td>b1047888-ae52-4179-9dd5-5448ea342a24</td>\n",
       "      <td>http://data.biodiversitydata.nl/xeno-canto/obs...</td>\n",
       "      <td>Animalia</td>\n",
       "      <td>Chordata</td>\n",
       "      <td>Aves</td>\n",
       "      <td>Passeriformes</td>\n",
       "      <td>Vireonidae</td>\n",
       "      <td>Vireo</td>\n",
       "      <td>Vireo gilvus</td>\n",
       "      <td>...</td>\n",
       "      <td>NaN</td>\n",
       "      <td>CC_BY_NC_4_0</td>\n",
       "      <td>Andrew Spencer</td>\n",
       "      <td>Andrew Spencer</td>\n",
       "      <td>NaN</td>\n",
       "      <td>NaN</td>\n",
       "      <td>2019-01-03T10:18:27.014Z</td>\n",
       "      <td>SOUND;STILLIMAGE</td>\n",
       "      <td>NaN</td>\n",
       "      <td>100053</td>\n",
       "    </tr>\n",
       "    <tr>\n",
       "      <th>4</th>\n",
       "      <td>1934871087</td>\n",
       "      <td>b1047888-ae52-4179-9dd5-5448ea342a24</td>\n",
       "      <td>http://data.biodiversitydata.nl/xeno-canto/obs...</td>\n",
       "      <td>Animalia</td>\n",
       "      <td>Chordata</td>\n",
       "      <td>Aves</td>\n",
       "      <td>Passeriformes</td>\n",
       "      <td>Icteridae</td>\n",
       "      <td>Dolichonyx</td>\n",
       "      <td>Dolichonyx oryzivorus</td>\n",
       "      <td>...</td>\n",
       "      <td>NaN</td>\n",
       "      <td>CC_BY_NC_4_0</td>\n",
       "      <td>Mike Nelson</td>\n",
       "      <td>Mike Nelson</td>\n",
       "      <td>NaN</td>\n",
       "      <td>NaN</td>\n",
       "      <td>2019-01-03T10:18:26.932Z</td>\n",
       "      <td>SOUND;STILLIMAGE</td>\n",
       "      <td>NaN</td>\n",
       "      <td>100089</td>\n",
       "    </tr>\n",
       "  </tbody>\n",
       "</table>\n",
       "<p>5 rows × 46 columns</p>\n",
       "</div>"
      ],
      "text/plain": [
       "       gbifID                            datasetKey  \\\n",
       "0  1934871083  b1047888-ae52-4179-9dd5-5448ea342a24   \n",
       "1  1934871084  b1047888-ae52-4179-9dd5-5448ea342a24   \n",
       "2  1934871085  b1047888-ae52-4179-9dd5-5448ea342a24   \n",
       "3  1934871086  b1047888-ae52-4179-9dd5-5448ea342a24   \n",
       "4  1934871087  b1047888-ae52-4179-9dd5-5448ea342a24   \n",
       "\n",
       "                                        occurrenceID   kingdom    phylum  \\\n",
       "0  http://data.biodiversitydata.nl/xeno-canto/obs...  Animalia  Chordata   \n",
       "1  http://data.biodiversitydata.nl/xeno-canto/obs...  Animalia  Chordata   \n",
       "2  http://data.biodiversitydata.nl/xeno-canto/obs...  Animalia  Chordata   \n",
       "3  http://data.biodiversitydata.nl/xeno-canto/obs...  Animalia  Chordata   \n",
       "4  http://data.biodiversitydata.nl/xeno-canto/obs...  Animalia  Chordata   \n",
       "\n",
       "  class          order      family       genus                species  ...  \\\n",
       "0  Aves  Passeriformes   Parulidae     Seiurus    Seiurus aurocapilla  ...   \n",
       "1  Aves  Passeriformes    Turdidae    Catharus      Catharus guttatus  ...   \n",
       "2  Aves  Passeriformes   Parulidae   Setophaga    Setophaga ruticilla  ...   \n",
       "3  Aves  Passeriformes  Vireonidae       Vireo           Vireo gilvus  ...   \n",
       "4  Aves  Passeriformes   Icteridae  Dolichonyx  Dolichonyx oryzivorus  ...   \n",
       "\n",
       "  dateIdentified       license    rightsHolder      recordedBy typeStatus  \\\n",
       "0            NaN  CC_BY_NC_4_0     Mike Nelson     Mike Nelson        NaN   \n",
       "1            NaN  CC_BY_NC_4_0     Mike Nelson     Mike Nelson        NaN   \n",
       "2            NaN  CC_BY_NC_4_0     Mike Nelson     Mike Nelson        NaN   \n",
       "3            NaN  CC_BY_NC_4_0  Andrew Spencer  Andrew Spencer        NaN   \n",
       "4            NaN  CC_BY_NC_4_0     Mike Nelson     Mike Nelson        NaN   \n",
       "\n",
       "  establishmentMeans           lastInterpreted         mediaType  issue  \\\n",
       "0                NaN  2019-01-03T10:18:26.934Z  SOUND;STILLIMAGE    NaN   \n",
       "1                NaN  2019-01-03T10:18:26.933Z  SOUND;STILLIMAGE    NaN   \n",
       "2                NaN  2019-01-03T10:18:26.936Z  SOUND;STILLIMAGE    NaN   \n",
       "3                NaN  2019-01-03T10:18:27.014Z  SOUND;STILLIMAGE    NaN   \n",
       "4                NaN  2019-01-03T10:18:26.932Z  SOUND;STILLIMAGE    NaN   \n",
       "\n",
       "    XC_ID  \n",
       "0  100119  \n",
       "1  100113  \n",
       "2  100082  \n",
       "3  100053  \n",
       "4  100089  \n",
       "\n",
       "[5 rows x 46 columns]"
      ]
     },
     "execution_count": 5,
     "metadata": {},
     "output_type": "execute_result"
    }
   ],
   "source": [
    "import pandas as pd\n",
    "\n",
    "df = pd.read_csv(gbif_csv, sep='\\t')\n",
    "\n",
    "project.fix_gbif_df(df)\n",
    "\n",
    "# Do we have data?\n",
    "df.head()"
   ]
  },
  {
   "cell_type": "code",
   "execution_count": 6,
   "metadata": {},
   "outputs": [
    {
     "name": "stdout",
     "output_type": "stream",
     "text": [
      "<class 'pandas.core.frame.DataFrame'>\n",
      "RangeIndex: 170041 entries, 0 to 170040\n",
      "Data columns (total 46 columns):\n",
      "gbifID                           170041 non-null int64\n",
      "datasetKey                       170041 non-null object\n",
      "occurrenceID                     170041 non-null object\n",
      "kingdom                          170041 non-null object\n",
      "phylum                           168749 non-null object\n",
      "class                            168749 non-null object\n",
      "order                            168749 non-null object\n",
      "family                           168749 non-null object\n",
      "genus                            168749 non-null object\n",
      "species                          168535 non-null object\n",
      "infraspecificEpithet             39389 non-null object\n",
      "taxonRank                        170041 non-null object\n",
      "scientificName                   170041 non-null object\n",
      "countryCode                      169447 non-null object\n",
      "locality                         170040 non-null object\n",
      "publishingOrgKey                 170041 non-null object\n",
      "decimalLatitude                  166100 non-null float64\n",
      "decimalLongitude                 166100 non-null float64\n",
      "coordinateUncertaintyInMeters    0 non-null float64\n",
      "coordinatePrecision              0 non-null float64\n",
      "elevation                        0 non-null float64\n",
      "elevationAccuracy                0 non-null float64\n",
      "depth                            0 non-null float64\n",
      "depthAccuracy                    0 non-null float64\n",
      "eventDate                        168070 non-null object\n",
      "day                              168070 non-null float64\n",
      "month                            168070 non-null float64\n",
      "year                             168070 non-null float64\n",
      "taxonKey                         170041 non-null int64\n",
      "speciesKey                       168535 non-null float64\n",
      "basisOfRecord                    170041 non-null object\n",
      "institutionCode                  0 non-null float64\n",
      "collectionCode                   170041 non-null object\n",
      "catalogNumber                    170041 non-null object\n",
      "recordNumber                     0 non-null float64\n",
      "identifiedBy                     0 non-null float64\n",
      "dateIdentified                   0 non-null float64\n",
      "license                          170041 non-null object\n",
      "rightsHolder                     170041 non-null object\n",
      "recordedBy                       170041 non-null object\n",
      "typeStatus                       0 non-null float64\n",
      "establishmentMeans               0 non-null float64\n",
      "lastInterpreted                  170041 non-null object\n",
      "mediaType                        170041 non-null object\n",
      "issue                            12938 non-null object\n",
      "XC_ID                            170041 non-null object\n",
      "dtypes: float64(18), int64(2), object(26)\n",
      "memory usage: 59.7+ MB\n"
     ]
    }
   ],
   "source": [
    "# We have some classification of the birg\n",
    "df.info()"
   ]
  },
  {
   "cell_type": "code",
   "execution_count": 7,
   "metadata": {},
   "outputs": [
    {
     "data": {
      "text/plain": [
       "0    XC100119\n",
       "1    XC100113\n",
       "2    XC100082\n",
       "3    XC100053\n",
       "4    XC100089\n",
       "Name: occurrenceID, dtype: object"
      ]
     },
     "execution_count": 7,
     "metadata": {},
     "output_type": "execute_result"
    }
   ],
   "source": [
    "# occurenceID references to http://data.biodiversitydata.nl/xeno-canto/observation/XC######\n",
    "# fetching this resource redirects to the page and not the download link\n",
    "\n",
    "df['occurrenceID'].head().map(lambda x: x.rsplit('/', 1)[1])"
   ]
  },
  {
   "cell_type": "code",
   "execution_count": 8,
   "metadata": {},
   "outputs": [
    {
     "data": {
      "text/plain": [
       "0    100119\n",
       "1    100113\n",
       "2    100082\n",
       "3    100053\n",
       "4    100089\n",
       "Name: XC_ID, dtype: object"
      ]
     },
     "execution_count": 8,
     "metadata": {},
     "output_type": "execute_result"
    }
   ],
   "source": [
    "df['XC_ID'].head()"
   ]
  },
  {
   "cell_type": "code",
   "execution_count": 14,
   "metadata": {},
   "outputs": [
    {
     "name": "stderr",
     "output_type": "stream",
     "text": [
      "  9%|▉         | 136/1510 [00:00<00:01, 1357.25it/s]"
     ]
    },
    {
     "name": "stdout",
     "output_type": "stream",
     "text": [
      "FP: /media/clemens/Maxtor/xeno-canto/fragments/Animalia/Chordata/Aves/Passeriformes/Parulidae/Setophaga/Setophaga ruticilla/\n",
      "Data: /media/clemens/Maxtor/xeno-canto/\n",
      "Fragments: /media/clemens/Maxtor/xeno-canto/fragments/\n",
      "Already downloaded 100113 /media/clemens/Maxtor/xeno-canto/xc/100113.mp3\n",
      "Already converted 100113 /media/clemens/Maxtor/xeno-canto/xc/100113.wav\n",
      "/media/clemens/Maxtor/xeno-canto/xc/100113.wav file:///media/clemens/Maxtor/xeno-canto/fragments/Animalia/Chordata/Aves/Passeriformes/Turdidae/Catharus/Catharus guttatus/\n",
      "Splitting /media/clemens/Maxtor/xeno-canto/xc/100113.wav where energy is below 1.0% for longer than 1.0s.\n",
      "Finding silences...\n"
     ]
    },
    {
     "name": "stderr",
     "output_type": "stream",
     "text": [
      " 99%|█████████▉| 1501/1510 [00:01<00:00, 1387.74it/s]\n",
      "100%|██████████| 41/41 [00:00<00:00, 1518.35it/s]"
     ]
    },
    {
     "name": "stdout",
     "output_type": "stream",
     "text": [
      "Writing file ./100113_000.wav\n",
      "Writing file ./100113_001.wav\n",
      "Writing file ./100113_002.wav\n",
      "Writing file ./100113_003.wav\n",
      "Writing file ./100113_004.wav\n",
      "Writing file ./100113_005.wav\n",
      "Writing file ./100113_006.wav\n",
      "Writing file ./100113_007.wav\n",
      "Writing file ./100113_008.wav\n",
      "Writing file ./100113_009.wav\n",
      "Writing file ./100113_010.wav\n",
      "Writing file ./100113_011.wav\n",
      "Writing file ./100113_012.wav\n",
      "Writing file ./100113_013.wav\n",
      "Writing file ./100113_014.wav\n",
      "Writing file ./100113_015.wav\n",
      "Writing file ./100113_016.wav\n",
      "Writing file ./100113_017.wav\n",
      "Writing file ./100113_018.wav\n",
      "Writing file ./100113_019.wav\n",
      "Writing file ./100113_020.wav\n",
      "Writing file ./100113_021.wav\n",
      "Writing file ./100113_022.wav\n",
      "Writing file ./100113_023.wav\n",
      "Writing file ./100113_024.wav\n",
      "Writing file ./100113_025.wav\n",
      "Writing file ./100113_026.wav\n",
      "Writing file ./100113_027.wav\n",
      "Writing file ./100113_028.wav\n",
      "Writing file ./100113_029.wav\n",
      "Writing file ./100113_030.wav\n",
      "Writing file ./100113_031.wav\n",
      "Writing file ./100113_032.wav\n",
      "Writing file ./100113_033.wav\n",
      "Writing file ./100113_034.wav\n",
      "Writing file ./100113_035.wav\n",
      "Writing file ./100113_036.wav\n",
      "Writing file ./100113_037.wav\n",
      "Writing file ./100113_038.wav\n",
      "Writing file ./100113_039.wav\n",
      "Writing file ./100113_040.wav\n"
     ]
    },
    {
     "name": "stderr",
     "output_type": "stream",
     "text": [
      "\n"
     ]
    }
   ],
   "source": [
    "xc_id='100082'\n",
    "\n",
    "print('FP:', project.get_fragments_path(df, xc_id))\n",
    "import split\n",
    "\n",
    "\n",
    "args = dict(split.defaults)\n",
    "\n",
    "args['silence_threshold'] = 0.01\n",
    "args['min_silence_length'] = 1.0\n",
    "args['dry_run'] = False\n",
    "\n",
    "print('Data:', project.get_data_dir())\n",
    "print('Fragments:',project.get_fragments_dir())\n",
    "project.build_fragments(df.head(num_files), args)"
   ]
  },
  {
   "cell_type": "code",
   "execution_count": null,
   "metadata": {},
   "outputs": [],
   "source": [
    "import XenoCanto as xc\n",
    "#import importlib; importlib.reload(XenoCanto)\n",
    "\n",
    "xc.set_dir(project.get_sample_dir())"
   ]
  },
  {
   "cell_type": "code",
   "execution_count": null,
   "metadata": {},
   "outputs": [],
   "source": [
    "for id in df['XC_ID'].head(num_files):\n",
    "    xc.convert_mp3_to_wav(id)"
   ]
  },
  {
   "cell_type": "code",
   "execution_count": null,
   "metadata": {},
   "outputs": [],
   "source": [
    "from scipy.io import wavfile"
   ]
  },
  {
   "cell_type": "code",
   "execution_count": null,
   "metadata": {},
   "outputs": [],
   "source": [
    "id = '100113'\n",
    "fs, data = wavfile.read(xc.get_wav_file(id))\n",
    "print( 'data', data.shape)\n",
    "print( 'Duration:', data.shape[0] / fs)\n",
    "print( 'Channels:', data.shape[1])"
   ]
  },
  {
   "cell_type": "code",
   "execution_count": null,
   "metadata": {},
   "outputs": [],
   "source": [
    "import matplotlib.pyplot as plt"
   ]
  },
  {
   "cell_type": "code",
   "execution_count": null,
   "metadata": {},
   "outputs": [],
   "source": [
    "# Is this stereo recording useful?\n",
    "\n",
    "plt.plot(data)\n",
    "plt.show()"
   ]
  },
  {
   "cell_type": "code",
   "execution_count": null,
   "metadata": {},
   "outputs": [],
   "source": [
    "data[:,0][200000:200100]"
   ]
  },
  {
   "cell_type": "code",
   "execution_count": null,
   "metadata": {},
   "outputs": [],
   "source": [
    "data[:,1][200000:200100]"
   ]
  },
  {
   "cell_type": "code",
   "execution_count": null,
   "metadata": {},
   "outputs": [],
   "source": [
    "# FIX ME: what are min and max\n",
    "\n",
    "diff = data[:,0] - data[:,1]\n",
    "diff[200000:200100]"
   ]
  },
  {
   "cell_type": "code",
   "execution_count": null,
   "metadata": {},
   "outputs": [],
   "source": [
    "import numpy as np\n",
    "\n",
    "plt.plot(diff)\n",
    "plt.show()"
   ]
  },
  {
   "cell_type": "code",
   "execution_count": null,
   "metadata": {},
   "outputs": [],
   "source": [
    "### https://shallowsky.com/blog/programming/sonograms-in-python.html\n",
    "# https://matplotlib.org/examples/pylab_examples/specgram_demo.html\n",
    "\n",
    "Pxx, freqs, bins, im = plt.specgram(data[0:fs*2,0], Fs=5000)#, NFFT=1024, noverlap=900)\n",
    "plt.show()"
   ]
  },
  {
   "cell_type": "code",
   "execution_count": null,
   "metadata": {},
   "outputs": [],
   "source": [
    "Pxx, freqs, bins, im = plt.specgram(data[:,1], Fs=500)#, NFFT=1024, noverlap=900)\n",
    "plt.show()"
   ]
  },
  {
   "cell_type": "code",
   "execution_count": null,
   "metadata": {},
   "outputs": [],
   "source": [
    "from scipy import signal\n",
    "from scipy.io import wavfile\n",
    "import scipy.io.wavfile\n",
    "\n",
    "M = 1024\n",
    "\n",
    "freqs, times, spect = signal.spectrogram(data[:,0], fs=fs, window='hanning',\n",
    "                                  nperseg=1024, noverlap=M - 100,\n",
    "                                  detrend=False, scaling='spectrum')"
   ]
  },
  {
   "cell_type": "code",
   "execution_count": null,
   "metadata": {},
   "outputs": [],
   "source": [
    "freqs.size"
   ]
  },
  {
   "cell_type": "code",
   "execution_count": null,
   "metadata": {},
   "outputs": [],
   "source": [
    "freqs[0:20]"
   ]
  },
  {
   "cell_type": "code",
   "execution_count": null,
   "metadata": {},
   "outputs": [],
   "source": [
    "times.size"
   ]
  },
  {
   "cell_type": "code",
   "execution_count": null,
   "metadata": {},
   "outputs": [],
   "source": [
    "plt.plot(spect)\n",
    "plt.show()"
   ]
  },
  {
   "cell_type": "code",
   "execution_count": null,
   "metadata": {},
   "outputs": [],
   "source": []
  }
 ],
 "metadata": {
  "kernelspec": {
   "display_name": "Python 3",
   "language": "python",
   "name": "python3"
  },
  "language_info": {
   "codemirror_mode": {
    "name": "ipython",
    "version": 3
   },
   "file_extension": ".py",
   "mimetype": "text/x-python",
   "name": "python",
   "nbconvert_exporter": "python",
   "pygments_lexer": "ipython3",
   "version": "3.6.7"
  }
 },
 "nbformat": 4,
 "nbformat_minor": 2
}
