{
 "cells": [
  {
   "cell_type": "code",
   "execution_count": 1,
   "metadata": {},
   "outputs": [],
   "source": [
    "import project\n",
    "\n",
    "import gbif\n",
    "import pandas as pd"
   ]
  },
  {
   "cell_type": "code",
   "execution_count": 2,
   "metadata": {},
   "outputs": [
    {
     "name": "stdout",
     "output_type": "stream",
     "text": [
      "Already downloaded zip 0025627-181108115102211\n",
      "Already downloaded zip 0025627-181108115102211\n"
     ]
    },
    {
     "data": {
      "text/plain": [
       "0    100119\n",
       "1    100113\n",
       "2    100082\n",
       "3    100053\n",
       "4    100089\n",
       "Name: XC_ID, dtype: object"
      ]
     },
     "execution_count": 2,
     "metadata": {},
     "output_type": "execute_result"
    }
   ],
   "source": [
    "data_dir = project.get_project_dir() + 'data/'\n",
    "data_dir = '/media/clemens/Maxtor/xeno-canto/'\n",
    "\n",
    "project.set_data_dir(data_dir)\n",
    "\n",
    "gbif.set_gbif_dir(project.get_gbif_dir())\n",
    "\n",
    "gbif_csv = gbif.get_data()\n",
    "\n",
    "df = pd.read_csv(gbif.get_data(), sep='\\t')\n",
    "\n",
    "project.fix_gbif_df(df)\n",
    "\n",
    "df['XC_ID'].head()"
   ]
  },
  {
   "cell_type": "code",
   "execution_count": 3,
   "metadata": {},
   "outputs": [
    {
     "name": "stdout",
     "output_type": "stream",
     "text": [
      "<class 'pandas.core.frame.DataFrame'>\n",
      "RangeIndex: 170041 entries, 0 to 170040\n",
      "Data columns (total 46 columns):\n",
      "gbifID                           170041 non-null int64\n",
      "datasetKey                       170041 non-null object\n",
      "occurrenceID                     170041 non-null object\n",
      "kingdom                          170041 non-null object\n",
      "phylum                           168749 non-null object\n",
      "class                            168749 non-null object\n",
      "order                            168749 non-null object\n",
      "family                           168749 non-null object\n",
      "genus                            168749 non-null object\n",
      "species                          168535 non-null object\n",
      "infraspecificEpithet             39389 non-null object\n",
      "taxonRank                        170041 non-null object\n",
      "scientificName                   170041 non-null object\n",
      "countryCode                      169447 non-null object\n",
      "locality                         170040 non-null object\n",
      "publishingOrgKey                 170041 non-null object\n",
      "decimalLatitude                  166100 non-null float64\n",
      "decimalLongitude                 166100 non-null float64\n",
      "coordinateUncertaintyInMeters    0 non-null float64\n",
      "coordinatePrecision              0 non-null float64\n",
      "elevation                        0 non-null float64\n",
      "elevationAccuracy                0 non-null float64\n",
      "depth                            0 non-null float64\n",
      "depthAccuracy                    0 non-null float64\n",
      "eventDate                        168070 non-null object\n",
      "day                              168070 non-null float64\n",
      "month                            168070 non-null float64\n",
      "year                             168070 non-null float64\n",
      "taxonKey                         170041 non-null int64\n",
      "speciesKey                       168535 non-null float64\n",
      "basisOfRecord                    170041 non-null object\n",
      "institutionCode                  0 non-null float64\n",
      "collectionCode                   170041 non-null object\n",
      "catalogNumber                    170041 non-null object\n",
      "recordNumber                     0 non-null float64\n",
      "identifiedBy                     0 non-null float64\n",
      "dateIdentified                   0 non-null float64\n",
      "license                          170041 non-null object\n",
      "rightsHolder                     170041 non-null object\n",
      "recordedBy                       170041 non-null object\n",
      "typeStatus                       0 non-null float64\n",
      "establishmentMeans               0 non-null float64\n",
      "lastInterpreted                  170041 non-null object\n",
      "mediaType                        170041 non-null object\n",
      "issue                            12938 non-null object\n",
      "XC_ID                            170041 non-null object\n",
      "dtypes: float64(18), int64(2), object(26)\n",
      "memory usage: 59.7+ MB\n"
     ]
    }
   ],
   "source": [
    "df.info()"
   ]
  },
  {
   "cell_type": "code",
   "execution_count": 4,
   "metadata": {},
   "outputs": [
    {
     "data": {
      "text/html": [
       "<div>\n",
       "<style scoped>\n",
       "    .dataframe tbody tr th:only-of-type {\n",
       "        vertical-align: middle;\n",
       "    }\n",
       "\n",
       "    .dataframe tbody tr th {\n",
       "        vertical-align: top;\n",
       "    }\n",
       "\n",
       "    .dataframe thead th {\n",
       "        text-align: right;\n",
       "    }\n",
       "</style>\n",
       "<table border=\"1\" class=\"dataframe\">\n",
       "  <thead>\n",
       "    <tr style=\"text-align: right;\">\n",
       "      <th></th>\n",
       "      <th>gbifID</th>\n",
       "      <th>datasetKey</th>\n",
       "      <th>occurrenceID</th>\n",
       "      <th>kingdom</th>\n",
       "      <th>phylum</th>\n",
       "      <th>class</th>\n",
       "      <th>order</th>\n",
       "      <th>family</th>\n",
       "      <th>genus</th>\n",
       "      <th>species</th>\n",
       "      <th>...</th>\n",
       "      <th>dateIdentified</th>\n",
       "      <th>license</th>\n",
       "      <th>rightsHolder</th>\n",
       "      <th>recordedBy</th>\n",
       "      <th>typeStatus</th>\n",
       "      <th>establishmentMeans</th>\n",
       "      <th>lastInterpreted</th>\n",
       "      <th>mediaType</th>\n",
       "      <th>issue</th>\n",
       "      <th>XC_ID</th>\n",
       "    </tr>\n",
       "  </thead>\n",
       "  <tbody>\n",
       "    <tr>\n",
       "      <th>0</th>\n",
       "      <td>1934871083</td>\n",
       "      <td>b1047888-ae52-4179-9dd5-5448ea342a24</td>\n",
       "      <td>http://data.biodiversitydata.nl/xeno-canto/obs...</td>\n",
       "      <td>Animalia</td>\n",
       "      <td>Chordata</td>\n",
       "      <td>Aves</td>\n",
       "      <td>Passeriformes</td>\n",
       "      <td>Parulidae</td>\n",
       "      <td>Seiurus</td>\n",
       "      <td>Seiurus aurocapilla</td>\n",
       "      <td>...</td>\n",
       "      <td>NaN</td>\n",
       "      <td>CC_BY_NC_4_0</td>\n",
       "      <td>Mike Nelson</td>\n",
       "      <td>Mike Nelson</td>\n",
       "      <td>NaN</td>\n",
       "      <td>NaN</td>\n",
       "      <td>2019-01-03T10:18:26.934Z</td>\n",
       "      <td>SOUND;STILLIMAGE</td>\n",
       "      <td>NaN</td>\n",
       "      <td>100119</td>\n",
       "    </tr>\n",
       "    <tr>\n",
       "      <th>1</th>\n",
       "      <td>1934871084</td>\n",
       "      <td>b1047888-ae52-4179-9dd5-5448ea342a24</td>\n",
       "      <td>http://data.biodiversitydata.nl/xeno-canto/obs...</td>\n",
       "      <td>Animalia</td>\n",
       "      <td>Chordata</td>\n",
       "      <td>Aves</td>\n",
       "      <td>Passeriformes</td>\n",
       "      <td>Turdidae</td>\n",
       "      <td>Catharus</td>\n",
       "      <td>Catharus guttatus</td>\n",
       "      <td>...</td>\n",
       "      <td>NaN</td>\n",
       "      <td>CC_BY_NC_4_0</td>\n",
       "      <td>Mike Nelson</td>\n",
       "      <td>Mike Nelson</td>\n",
       "      <td>NaN</td>\n",
       "      <td>NaN</td>\n",
       "      <td>2019-01-03T10:18:26.933Z</td>\n",
       "      <td>SOUND;STILLIMAGE</td>\n",
       "      <td>NaN</td>\n",
       "      <td>100113</td>\n",
       "    </tr>\n",
       "    <tr>\n",
       "      <th>2</th>\n",
       "      <td>1934871085</td>\n",
       "      <td>b1047888-ae52-4179-9dd5-5448ea342a24</td>\n",
       "      <td>http://data.biodiversitydata.nl/xeno-canto/obs...</td>\n",
       "      <td>Animalia</td>\n",
       "      <td>Chordata</td>\n",
       "      <td>Aves</td>\n",
       "      <td>Passeriformes</td>\n",
       "      <td>Parulidae</td>\n",
       "      <td>Setophaga</td>\n",
       "      <td>Setophaga ruticilla</td>\n",
       "      <td>...</td>\n",
       "      <td>NaN</td>\n",
       "      <td>CC_BY_NC_4_0</td>\n",
       "      <td>Mike Nelson</td>\n",
       "      <td>Mike Nelson</td>\n",
       "      <td>NaN</td>\n",
       "      <td>NaN</td>\n",
       "      <td>2019-01-03T10:18:26.936Z</td>\n",
       "      <td>SOUND;STILLIMAGE</td>\n",
       "      <td>NaN</td>\n",
       "      <td>100082</td>\n",
       "    </tr>\n",
       "    <tr>\n",
       "      <th>3</th>\n",
       "      <td>1934871086</td>\n",
       "      <td>b1047888-ae52-4179-9dd5-5448ea342a24</td>\n",
       "      <td>http://data.biodiversitydata.nl/xeno-canto/obs...</td>\n",
       "      <td>Animalia</td>\n",
       "      <td>Chordata</td>\n",
       "      <td>Aves</td>\n",
       "      <td>Passeriformes</td>\n",
       "      <td>Vireonidae</td>\n",
       "      <td>Vireo</td>\n",
       "      <td>Vireo gilvus</td>\n",
       "      <td>...</td>\n",
       "      <td>NaN</td>\n",
       "      <td>CC_BY_NC_4_0</td>\n",
       "      <td>Andrew Spencer</td>\n",
       "      <td>Andrew Spencer</td>\n",
       "      <td>NaN</td>\n",
       "      <td>NaN</td>\n",
       "      <td>2019-01-03T10:18:27.014Z</td>\n",
       "      <td>SOUND;STILLIMAGE</td>\n",
       "      <td>NaN</td>\n",
       "      <td>100053</td>\n",
       "    </tr>\n",
       "    <tr>\n",
       "      <th>4</th>\n",
       "      <td>1934871087</td>\n",
       "      <td>b1047888-ae52-4179-9dd5-5448ea342a24</td>\n",
       "      <td>http://data.biodiversitydata.nl/xeno-canto/obs...</td>\n",
       "      <td>Animalia</td>\n",
       "      <td>Chordata</td>\n",
       "      <td>Aves</td>\n",
       "      <td>Passeriformes</td>\n",
       "      <td>Icteridae</td>\n",
       "      <td>Dolichonyx</td>\n",
       "      <td>Dolichonyx oryzivorus</td>\n",
       "      <td>...</td>\n",
       "      <td>NaN</td>\n",
       "      <td>CC_BY_NC_4_0</td>\n",
       "      <td>Mike Nelson</td>\n",
       "      <td>Mike Nelson</td>\n",
       "      <td>NaN</td>\n",
       "      <td>NaN</td>\n",
       "      <td>2019-01-03T10:18:26.932Z</td>\n",
       "      <td>SOUND;STILLIMAGE</td>\n",
       "      <td>NaN</td>\n",
       "      <td>100089</td>\n",
       "    </tr>\n",
       "  </tbody>\n",
       "</table>\n",
       "<p>5 rows × 46 columns</p>\n",
       "</div>"
      ],
      "text/plain": [
       "       gbifID                            datasetKey  \\\n",
       "0  1934871083  b1047888-ae52-4179-9dd5-5448ea342a24   \n",
       "1  1934871084  b1047888-ae52-4179-9dd5-5448ea342a24   \n",
       "2  1934871085  b1047888-ae52-4179-9dd5-5448ea342a24   \n",
       "3  1934871086  b1047888-ae52-4179-9dd5-5448ea342a24   \n",
       "4  1934871087  b1047888-ae52-4179-9dd5-5448ea342a24   \n",
       "\n",
       "                                        occurrenceID   kingdom    phylum  \\\n",
       "0  http://data.biodiversitydata.nl/xeno-canto/obs...  Animalia  Chordata   \n",
       "1  http://data.biodiversitydata.nl/xeno-canto/obs...  Animalia  Chordata   \n",
       "2  http://data.biodiversitydata.nl/xeno-canto/obs...  Animalia  Chordata   \n",
       "3  http://data.biodiversitydata.nl/xeno-canto/obs...  Animalia  Chordata   \n",
       "4  http://data.biodiversitydata.nl/xeno-canto/obs...  Animalia  Chordata   \n",
       "\n",
       "  class          order      family       genus                species  ...  \\\n",
       "0  Aves  Passeriformes   Parulidae     Seiurus    Seiurus aurocapilla  ...   \n",
       "1  Aves  Passeriformes    Turdidae    Catharus      Catharus guttatus  ...   \n",
       "2  Aves  Passeriformes   Parulidae   Setophaga    Setophaga ruticilla  ...   \n",
       "3  Aves  Passeriformes  Vireonidae       Vireo           Vireo gilvus  ...   \n",
       "4  Aves  Passeriformes   Icteridae  Dolichonyx  Dolichonyx oryzivorus  ...   \n",
       "\n",
       "  dateIdentified       license    rightsHolder      recordedBy typeStatus  \\\n",
       "0            NaN  CC_BY_NC_4_0     Mike Nelson     Mike Nelson        NaN   \n",
       "1            NaN  CC_BY_NC_4_0     Mike Nelson     Mike Nelson        NaN   \n",
       "2            NaN  CC_BY_NC_4_0     Mike Nelson     Mike Nelson        NaN   \n",
       "3            NaN  CC_BY_NC_4_0  Andrew Spencer  Andrew Spencer        NaN   \n",
       "4            NaN  CC_BY_NC_4_0     Mike Nelson     Mike Nelson        NaN   \n",
       "\n",
       "  establishmentMeans           lastInterpreted         mediaType  issue  \\\n",
       "0                NaN  2019-01-03T10:18:26.934Z  SOUND;STILLIMAGE    NaN   \n",
       "1                NaN  2019-01-03T10:18:26.933Z  SOUND;STILLIMAGE    NaN   \n",
       "2                NaN  2019-01-03T10:18:26.936Z  SOUND;STILLIMAGE    NaN   \n",
       "3                NaN  2019-01-03T10:18:27.014Z  SOUND;STILLIMAGE    NaN   \n",
       "4                NaN  2019-01-03T10:18:26.932Z  SOUND;STILLIMAGE    NaN   \n",
       "\n",
       "    XC_ID  \n",
       "0  100119  \n",
       "1  100113  \n",
       "2  100082  \n",
       "3  100053  \n",
       "4  100089  \n",
       "\n",
       "[5 rows x 46 columns]"
      ]
     },
     "execution_count": 4,
     "metadata": {},
     "output_type": "execute_result"
    }
   ],
   "source": [
    "df.head()"
   ]
  },
  {
   "cell_type": "code",
   "execution_count": 5,
   "metadata": {},
   "outputs": [
    {
     "data": {
      "text/plain": [
       "array(['Animalia'], dtype=object)"
      ]
     },
     "execution_count": 5,
     "metadata": {},
     "output_type": "execute_result"
    }
   ],
   "source": [
    "df['kingdom'].unique()"
   ]
  },
  {
   "cell_type": "code",
   "execution_count": 6,
   "metadata": {},
   "outputs": [
    {
     "data": {
      "text/plain": [
       "array(['Chordata', nan], dtype=object)"
      ]
     },
     "execution_count": 6,
     "metadata": {},
     "output_type": "execute_result"
    }
   ],
   "source": [
    "df['phylum'].unique()"
   ]
  },
  {
   "cell_type": "code",
   "execution_count": 7,
   "metadata": {},
   "outputs": [
    {
     "data": {
      "text/plain": [
       "1292"
      ]
     },
     "execution_count": 7,
     "metadata": {},
     "output_type": "execute_result"
    }
   ],
   "source": [
    "df['phylum'].isnull().sum()"
   ]
  },
  {
   "cell_type": "code",
   "execution_count": 8,
   "metadata": {},
   "outputs": [
    {
     "data": {
      "text/html": [
       "<div>\n",
       "<style scoped>\n",
       "    .dataframe tbody tr th:only-of-type {\n",
       "        vertical-align: middle;\n",
       "    }\n",
       "\n",
       "    .dataframe tbody tr th {\n",
       "        vertical-align: top;\n",
       "    }\n",
       "\n",
       "    .dataframe thead th {\n",
       "        text-align: right;\n",
       "    }\n",
       "</style>\n",
       "<table border=\"1\" class=\"dataframe\">\n",
       "  <thead>\n",
       "    <tr style=\"text-align: right;\">\n",
       "      <th></th>\n",
       "      <th>gbifID</th>\n",
       "      <th>XC_ID</th>\n",
       "    </tr>\n",
       "  </thead>\n",
       "  <tbody>\n",
       "    <tr>\n",
       "      <th>2028</th>\n",
       "      <td>1934873111</td>\n",
       "      <td>107195</td>\n",
       "    </tr>\n",
       "    <tr>\n",
       "      <th>2194</th>\n",
       "      <td>1934873277</td>\n",
       "      <td>107628</td>\n",
       "    </tr>\n",
       "    <tr>\n",
       "      <th>2196</th>\n",
       "      <td>1934873279</td>\n",
       "      <td>107637</td>\n",
       "    </tr>\n",
       "    <tr>\n",
       "      <th>2203</th>\n",
       "      <td>1934873286</td>\n",
       "      <td>107788</td>\n",
       "    </tr>\n",
       "    <tr>\n",
       "      <th>2209</th>\n",
       "      <td>1934873292</td>\n",
       "      <td>107789</td>\n",
       "    </tr>\n",
       "  </tbody>\n",
       "</table>\n",
       "</div>"
      ],
      "text/plain": [
       "          gbifID   XC_ID\n",
       "2028  1934873111  107195\n",
       "2194  1934873277  107628\n",
       "2196  1934873279  107637\n",
       "2203  1934873286  107788\n",
       "2209  1934873292  107789"
      ]
     },
     "execution_count": 8,
     "metadata": {},
     "output_type": "execute_result"
    }
   ],
   "source": [
    "# There are some unclassified records in the GBIF download\n",
    "df_null_classification = df[df['phylum'].isnull()][['gbifID', 'XC_ID']]\n",
    "\n",
    "df_null_classification.to_csv(project.get_gbif_dir() + 'gbif_null_classifications.csv', sep='\\t')\n",
    "\n",
    "df_null_classification.head()"
   ]
  },
  {
   "cell_type": "code",
   "execution_count": 9,
   "metadata": {},
   "outputs": [
    {
     "data": {
      "text/plain": [
       "array(['Aves', nan], dtype=object)"
      ]
     },
     "execution_count": 9,
     "metadata": {},
     "output_type": "execute_result"
    }
   ],
   "source": [
    "df['class'].unique()"
   ]
  },
  {
   "cell_type": "code",
   "execution_count": 10,
   "metadata": {},
   "outputs": [
    {
     "data": {
      "text/plain": [
       "count     168749\n",
       "unique         1\n",
       "top         Aves\n",
       "freq      168749\n",
       "Name: class, dtype: object"
      ]
     },
     "execution_count": 10,
     "metadata": {},
     "output_type": "execute_result"
    }
   ],
   "source": [
    "df['class'].describe()"
   ]
  },
  {
   "cell_type": "code",
   "execution_count": 11,
   "metadata": {},
   "outputs": [
    {
     "data": {
      "text/plain": [
       "array(['Passeriformes', 'Cuculiformes', 'Gruiformes', 'Columbiformes',\n",
       "       'Piciformes', 'Galliformes', 'Charadriiformes',\n",
       "       'Procellariiformes', 'Pelecaniformes', 'Trogoniformes',\n",
       "       'Psittaciformes', 'Accipitriformes', 'Anseriformes',\n",
       "       'Caprimulgiformes', 'Strigiformes', 'Apodiformes', 'Coraciiformes',\n",
       "       'Bucerotiformes', 'Ciconiiformes', 'Podicipediformes',\n",
       "       'Falconiformes', 'Musophagiformes', 'Tinamiformes', nan,\n",
       "       'Gaviiformes', 'Eurypygiformes', 'Suliformes', 'Cariamiformes',\n",
       "       'Sphenisciformes', 'Phaethontiformes', 'Opisthocomiformes',\n",
       "       'Phoenicopteriformes', 'Leptosomiformes', 'Pteroclidiformes',\n",
       "       'Casuariiformes', 'Otidiformes', 'Coliiformes',\n",
       "       'Mesitornithiformes', 'Rheiformes', 'Struthioniformes',\n",
       "       'Apterygiformes'], dtype=object)"
      ]
     },
     "execution_count": 11,
     "metadata": {},
     "output_type": "execute_result"
    }
   ],
   "source": [
    "df['order'].unique()"
   ]
  },
  {
   "cell_type": "code",
   "execution_count": 12,
   "metadata": {},
   "outputs": [
    {
     "data": {
      "text/plain": [
       "224"
      ]
     },
     "execution_count": 12,
     "metadata": {},
     "output_type": "execute_result"
    }
   ],
   "source": [
    "df['family'].unique().size"
   ]
  },
  {
   "cell_type": "code",
   "execution_count": 13,
   "metadata": {},
   "outputs": [
    {
     "data": {
      "text/plain": [
       "2024"
      ]
     },
     "execution_count": 13,
     "metadata": {},
     "output_type": "execute_result"
    }
   ],
   "source": [
    "df['genus'].unique().size"
   ]
  },
  {
   "cell_type": "code",
   "execution_count": 14,
   "metadata": {},
   "outputs": [
    {
     "data": {
      "text/plain": [
       "8503"
      ]
     },
     "execution_count": 14,
     "metadata": {},
     "output_type": "execute_result"
    }
   ],
   "source": [
    "df['species'].unique().size"
   ]
  },
  {
   "cell_type": "code",
   "execution_count": 15,
   "metadata": {},
   "outputs": [
    {
     "data": {
      "text/html": [
       "<div>\n",
       "<style scoped>\n",
       "    .dataframe tbody tr th:only-of-type {\n",
       "        vertical-align: middle;\n",
       "    }\n",
       "\n",
       "    .dataframe tbody tr th {\n",
       "        vertical-align: top;\n",
       "    }\n",
       "\n",
       "    .dataframe thead th {\n",
       "        text-align: right;\n",
       "    }\n",
       "</style>\n",
       "<table border=\"1\" class=\"dataframe\">\n",
       "  <thead>\n",
       "    <tr style=\"text-align: right;\">\n",
       "      <th></th>\n",
       "      <th>gbifID</th>\n",
       "      <th>datasetKey</th>\n",
       "      <th>occurrenceID</th>\n",
       "      <th>kingdom</th>\n",
       "      <th>phylum</th>\n",
       "      <th>class</th>\n",
       "      <th>order</th>\n",
       "      <th>family</th>\n",
       "      <th>genus</th>\n",
       "      <th>species</th>\n",
       "      <th>...</th>\n",
       "      <th>dateIdentified</th>\n",
       "      <th>license</th>\n",
       "      <th>rightsHolder</th>\n",
       "      <th>recordedBy</th>\n",
       "      <th>typeStatus</th>\n",
       "      <th>establishmentMeans</th>\n",
       "      <th>lastInterpreted</th>\n",
       "      <th>mediaType</th>\n",
       "      <th>issue</th>\n",
       "      <th>XC_ID</th>\n",
       "    </tr>\n",
       "  </thead>\n",
       "  <tbody>\n",
       "    <tr>\n",
       "      <th>0</th>\n",
       "      <td>1934871083</td>\n",
       "      <td>b1047888-ae52-4179-9dd5-5448ea342a24</td>\n",
       "      <td>http://data.biodiversitydata.nl/xeno-canto/obs...</td>\n",
       "      <td>Animalia</td>\n",
       "      <td>Chordata</td>\n",
       "      <td>Aves</td>\n",
       "      <td>Passeriformes</td>\n",
       "      <td>Parulidae</td>\n",
       "      <td>Seiurus</td>\n",
       "      <td>Seiurus aurocapilla</td>\n",
       "      <td>...</td>\n",
       "      <td>NaN</td>\n",
       "      <td>CC_BY_NC_4_0</td>\n",
       "      <td>Mike Nelson</td>\n",
       "      <td>Mike Nelson</td>\n",
       "      <td>NaN</td>\n",
       "      <td>NaN</td>\n",
       "      <td>2019-01-03T10:18:26.934Z</td>\n",
       "      <td>SOUND;STILLIMAGE</td>\n",
       "      <td>NaN</td>\n",
       "      <td>100119</td>\n",
       "    </tr>\n",
       "  </tbody>\n",
       "</table>\n",
       "<p>1 rows × 46 columns</p>\n",
       "</div>"
      ],
      "text/plain": [
       "       gbifID                            datasetKey  \\\n",
       "0  1934871083  b1047888-ae52-4179-9dd5-5448ea342a24   \n",
       "\n",
       "                                        occurrenceID   kingdom    phylum  \\\n",
       "0  http://data.biodiversitydata.nl/xeno-canto/obs...  Animalia  Chordata   \n",
       "\n",
       "  class          order     family    genus              species  ...  \\\n",
       "0  Aves  Passeriformes  Parulidae  Seiurus  Seiurus aurocapilla  ...   \n",
       "\n",
       "  dateIdentified       license rightsHolder   recordedBy typeStatus  \\\n",
       "0            NaN  CC_BY_NC_4_0  Mike Nelson  Mike Nelson        NaN   \n",
       "\n",
       "  establishmentMeans           lastInterpreted         mediaType  issue  \\\n",
       "0                NaN  2019-01-03T10:18:26.934Z  SOUND;STILLIMAGE    NaN   \n",
       "\n",
       "    XC_ID  \n",
       "0  100119  \n",
       "\n",
       "[1 rows x 46 columns]"
      ]
     },
     "execution_count": 15,
     "metadata": {},
     "output_type": "execute_result"
    }
   ],
   "source": [
    "df[df['XC_ID'] == '100119'].head()"
   ]
  },
  {
   "cell_type": "code",
   "execution_count": 15,
   "metadata": {},
   "outputs": [],
   "source": []
  },
  {
   "cell_type": "code",
   "execution_count": 15,
   "metadata": {},
   "outputs": [],
   "source": []
  },
  {
   "cell_type": "code",
   "execution_count": null,
   "metadata": {},
   "outputs": [],
   "source": []
  }
 ],
 "metadata": {
  "kernelspec": {
   "display_name": "Python 3",
   "language": "python",
   "name": "python3"
  },
  "language_info": {
   "codemirror_mode": {
    "name": "ipython",
    "version": 3
   },
   "file_extension": ".py",
   "mimetype": "text/x-python",
   "name": "python",
   "nbconvert_exporter": "python",
   "pygments_lexer": "ipython3",
   "version": "3.6.7"
  }
 },
 "nbformat": 4,
 "nbformat_minor": 2
}
